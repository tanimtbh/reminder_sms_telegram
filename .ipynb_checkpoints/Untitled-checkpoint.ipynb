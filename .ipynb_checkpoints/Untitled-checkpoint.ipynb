{
 "cells": [
  {
   "cell_type": "code",
   "execution_count": 67,
   "metadata": {},
   "outputs": [],
   "source": [
    "from twilio.rest import Client \n",
    "from datetime import date"
   ]
  },
  {
   "cell_type": "code",
   "execution_count": 85,
   "metadata": {},
   "outputs": [],
   "source": [
    "def send_sms(to, messeage):\n",
    "    account_sid = 'ACa25c512d487eaeaa4f3d04b3d8192d45' \n",
    "    auth_token = '01dd774b0551a68269d0c974f869377a' \n",
    "    client = Client(account_sid, auth_token) \n",
    " \n",
    "    message = client.messages.create(  \n",
    "                              messaging_service_sid='MG1d1b8ea59257da55f94d17c8c53fa34e', \n",
    "                              body=\" ⍟ Hey \"+messeage.upper() +\" Its your turn to prove that you are really a good man. Today is \"+str(date.today())+\", Thank you for your cooporation\",      \n",
    "                              to=to \n",
    "                          ) \n",
    " \n",
    "    print(message.sid)"
   ]
  },
  {
   "cell_type": "code",
   "execution_count": 86,
   "metadata": {},
   "outputs": [
    {
     "name": "stdout",
     "output_type": "stream",
     "text": [
      "SM39414a56519e44408b5559ba075188e8\n"
     ]
    }
   ],
   "source": [
    "send_sms(\"+46734838088\",\"Juman\")"
   ]
  },
  {
   "cell_type": "code",
   "execution_count": 52,
   "metadata": {},
   "outputs": [],
   "source": [
    "from datetime import date"
   ]
  },
  {
   "cell_type": "code",
   "execution_count": 43,
   "metadata": {},
   "outputs": [],
   "source": [
    "today = date.today()"
   ]
  },
  {
   "cell_type": "code",
   "execution_count": 25,
   "metadata": {},
   "outputs": [
    {
     "name": "stdout",
     "output_type": "stream",
     "text": [
      "2021-05-05\n"
     ]
    }
   ],
   "source": [
    "print( today)"
   ]
  },
  {
   "cell_type": "code",
   "execution_count": 34,
   "metadata": {},
   "outputs": [
    {
     "data": {
      "text/plain": [
       "datetime.date"
      ]
     },
     "execution_count": 34,
     "metadata": {},
     "output_type": "execute_result"
    }
   ],
   "source": [
    "type(today)"
   ]
  },
  {
   "cell_type": "code",
   "execution_count": 35,
   "metadata": {},
   "outputs": [],
   "source": [
    "date=str(today).split(\"-\")"
   ]
  },
  {
   "cell_type": "code",
   "execution_count": 36,
   "metadata": {},
   "outputs": [
    {
     "data": {
      "text/plain": [
       "'05'"
      ]
     },
     "execution_count": 36,
     "metadata": {},
     "output_type": "execute_result"
    }
   ],
   "source": [
    "date[2]"
   ]
  },
  {
   "cell_type": "code",
   "execution_count": 53,
   "metadata": {},
   "outputs": [],
   "source": [
    "team = {  \"Juman\": {'number': '+46734838088', 'date': [1,2,3,4,5]},\n",
    "          \"Sobur\": {'number': '+46738752087', 'date': [6,7,8,9,10]},\n",
    "          \"Rasel\": {'number': '+46734838088', 'date': [11,12,13,14,15]},\n",
    "          \"Ferdows\": {'number': '+46734838088', 'date':[16,17,18,19,20]},\n",
    "          \"Zillu\": {'number': '+46734838088', 'date':[21,22,23,24,25]},\n",
    "          \"Tanim\": {'number': '+46734838088', 'date': [26,27,28,29,30]}\n",
    "       }"
   ]
  },
  {
   "cell_type": "code",
   "execution_count": 54,
   "metadata": {},
   "outputs": [
    {
     "name": "stdout",
     "output_type": "stream",
     "text": [
      "5\n"
     ]
    }
   ],
   "source": [
    "today = date.today()\n",
    "date=str(today).split(\"-\")\n",
    "date=int(date[2])\n",
    "print(date)"
   ]
  },
  {
   "cell_type": "code",
   "execution_count": 58,
   "metadata": {},
   "outputs": [
    {
     "name": "stdout",
     "output_type": "stream",
     "text": [
      "Juman\n",
      "+46734838088\n",
      "[1, 2, 3, 4, 5]\n",
      "@@@You Have to clean\n",
      "------------------\n",
      "Sobur\n",
      "+46738752087\n",
      "[6, 7, 8, 9, 10]\n",
      "------------------\n",
      "Rasel\n",
      "+46734838088\n",
      "[11, 12, 13, 14, 15]\n",
      "------------------\n",
      "Ferdows\n",
      "+46734838088\n",
      "[16, 17, 18, 19, 20]\n",
      "------------------\n",
      "Zillu\n",
      "+46734838088\n",
      "[21, 22, 23, 24, 25]\n",
      "------------------\n",
      "Tanim\n",
      "+46734838088\n",
      "[26, 27, 28, 29, 30]\n",
      "------------------\n"
     ]
    }
   ],
   "source": [
    "for name, data in team.items():\n",
    "    print(name)\n",
    "    print(team[name]['number'])\n",
    "    print(team[name]['date'])\n",
    "    if date in team[name]['date']:\n",
    "        print(\"@@@You Have to clean\")\n",
    "    print(\"------------------\")"
   ]
  },
  {
   "cell_type": "code",
   "execution_count": null,
   "metadata": {},
   "outputs": [],
   "source": []
  }
 ],
 "metadata": {
  "kernelspec": {
   "display_name": "Python 3",
   "language": "python",
   "name": "python3"
  },
  "language_info": {
   "codemirror_mode": {
    "name": "ipython",
    "version": 3
   },
   "file_extension": ".py",
   "mimetype": "text/x-python",
   "name": "python",
   "nbconvert_exporter": "python",
   "pygments_lexer": "ipython3",
   "version": "3.8.5"
  }
 },
 "nbformat": 4,
 "nbformat_minor": 4
}
